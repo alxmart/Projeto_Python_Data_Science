{
  "nbformat": 4,
  "nbformat_minor": 0,
  "metadata": {
    "colab": {
      "provenance": [],
      "toc_visible": true,
      "include_colab_link": true
    },
    "kernelspec": {
      "name": "python3",
      "display_name": "Python 3"
    },
    "language_info": {
      "name": "python"
    }
  },
  "cells": [
    {
      "cell_type": "markdown",
      "metadata": {
        "id": "view-in-github",
        "colab_type": "text"
      },
      "source": [
        "<a href=\"https://colab.research.google.com/github/alxmart/Projeto_Python_Data_Science/blob/master/Hora%2Bda%2Bpratica.ipynb\" target=\"_parent\"><img src=\"https://colab.research.google.com/assets/colab-badge.svg\" alt=\"Open In Colab\"/></a>"
      ]
    },
    {
      "cell_type": "markdown",
      "source": [
        "# Sobre o notebook\n",
        "\n",
        "A \"hora da prática\" é uma atividade do curso de Python para Data Science da Alura que contém diversos desafios envolvendo os aprendizados de cada aula.\n",
        "\n",
        "O notebook \"hora da pratica\" é um notebook construído com espaço para as células dos desafios propostos no curso, com ele você tem espaço para construir e executar suas soluções"
      ],
      "metadata": {
        "id": "_kwAaQ36gLQ1"
      }
    },
    {
      "cell_type": "markdown",
      "source": [
        "## Aula 1 - Introdução ao Python"
      ],
      "metadata": {
        "id": "Mc-KN0dA0Z83"
      }
    },
    {
      "cell_type": "markdown",
      "source": [
        "### Questão 1\n",
        "\n",
        "Imprima a frase `Escola de Dados da Alura!`"
      ],
      "metadata": {
        "id": "l5eLWf0W0ikn"
      }
    },
    {
      "cell_type": "code",
      "source": [
        "print('Escola de Dados da Alura !\\n')"
      ],
      "metadata": {
        "id": "5pllxJ0h0-yA",
        "outputId": "b55d418f-6156-45ef-d401-39052d01c0af",
        "colab": {
          "base_uri": "https://localhost:8080/"
        }
      },
      "execution_count": 1,
      "outputs": [
        {
          "output_type": "stream",
          "name": "stdout",
          "text": [
            "Escola de Dados da Alura !\n",
            "\n"
          ]
        }
      ]
    },
    {
      "cell_type": "markdown",
      "source": [
        "### Questão 2\n",
        "Imprima na tela seu nome e seu sobrenome seguindo a estrutura abaixo:\n",
        "```\n",
        "Nome: [seu nome]\n",
        "Sobrenome: [seu sobrenome]\n",
        "```\n"
      ],
      "metadata": {
        "id": "tQdX90Ue03c7"
      }
    },
    {
      "cell_type": "code",
      "source": [
        "print('Nome: Luizão')\n",
        "print('Sobrenome: Mart\\n')"
      ],
      "metadata": {
        "id": "RVw5iKn20_Ps",
        "outputId": "78b1ea58-10a9-4112-e0b9-726969104482",
        "colab": {
          "base_uri": "https://localhost:8080/"
        }
      },
      "execution_count": 2,
      "outputs": [
        {
          "output_type": "stream",
          "name": "stdout",
          "text": [
            "Nome: Luizão\n",
            "Sobrenome: Mart\n",
            "\n"
          ]
        }
      ]
    },
    {
      "cell_type": "markdown",
      "source": [
        "### Questão 3\n",
        "Imprima o seu primeiro nome letra a letra. Por exemplo, nome é Mirla, então eu obtenho a seguinte saída:\n",
        "```\n",
        "M\n",
        "I\n",
        "R\n",
        "L\n",
        "A\n",
        "```\n"
      ],
      "metadata": {
        "id": "gfg-aiip03vC"
      }
    },
    {
      "cell_type": "code",
      "source": [
        "print('L')\n",
        "print('U')\n",
        "print('I')\n",
        "print('Z\\n')\n",
        "\n",
        "nome = \"Luizão\"\n",
        "\n",
        "for letra in nome:\n",
        "  print(letra)\n"
      ],
      "metadata": {
        "id": "v5bkrgf60_qx",
        "outputId": "598fdac5-98a9-43cb-d18f-cb503df36c72",
        "colab": {
          "base_uri": "https://localhost:8080/"
        }
      },
      "execution_count": 3,
      "outputs": [
        {
          "output_type": "stream",
          "name": "stdout",
          "text": [
            "L\n",
            "U\n",
            "I\n",
            "Z\n",
            "\n",
            "L\n",
            "u\n",
            "i\n",
            "z\n",
            "ã\n",
            "o\n"
          ]
        }
      ]
    },
    {
      "cell_type": "markdown",
      "source": [
        "### Questão 4\n",
        "Imprima o dia do seu nascimento em formato `dia mês ano`. Os valores de dia e ano não podem estar entre aspas. O formato deve estar como no exemplo, supondo uma data de aniversário dia 28 de fevereiro de 2003:\n",
        "```\n",
        "28 fevereiro 2003\n",
        "```"
      ],
      "metadata": {
        "id": "oadrJbl704MM"
      }
    },
    {
      "cell_type": "code",
      "source": [
        "print(31,'fevereiro', 2155,\"\\n\")"
      ],
      "metadata": {
        "id": "cx0KSsrq1ALD",
        "outputId": "3d95c456-fb27-43c7-b301-e3f35aa60748",
        "colab": {
          "base_uri": "https://localhost:8080/"
        }
      },
      "execution_count": 4,
      "outputs": [
        {
          "output_type": "stream",
          "name": "stdout",
          "text": [
            "31 fevereiro 2155 \n",
            "\n"
          ]
        }
      ]
    },
    {
      "cell_type": "markdown",
      "source": [
        "### Questão 5\n",
        "Imprima em um único print o atual ano que você está fazendo esse curso, o valor do ano deve ser um dado numérico. A saída do print deve ser a seguinte:\n",
        "```\n",
        "Ano atual: [ano]\n",
        "```\n"
      ],
      "metadata": {
        "id": "3RgyMaan04TD"
      }
    },
    {
      "cell_type": "code",
      "execution_count": 5,
      "metadata": {
        "id": "UN77EfQ2d36Y",
        "outputId": "8450ae94-fe43-4385-d7d8-fd77b9238b5a",
        "colab": {
          "base_uri": "https://localhost:8080/"
        }
      },
      "outputs": [
        {
          "output_type": "stream",
          "name": "stdout",
          "text": [
            "Ano atual: 2025 \n",
            "\n"
          ]
        }
      ],
      "source": [
        "print('Ano atual:',2025,\"\\n\")"
      ]
    },
    {
      "cell_type": "markdown",
      "source": [
        "## Aula 2 - Manipulando dados no Python"
      ],
      "metadata": {
        "id": "D9e3FqhO1S3X"
      }
    },
    {
      "cell_type": "markdown",
      "source": [
        "### Coleta e amostragem de dados"
      ],
      "metadata": {
        "id": "n6o7C1Ze2cRe"
      }
    },
    {
      "cell_type": "markdown",
      "source": [
        "#### Questão 1\n",
        "Crie um programa que solicite à pessoa usuária digitar seu nome, e imprima “Olá, [nome]!”."
      ],
      "metadata": {
        "id": "sRneWag9PV5Q"
      }
    },
    {
      "cell_type": "code",
      "source": [
        "nome_pessoa = input('Por favor,digite seu nome:')\n",
        "print(f'Olá, {nome_pessoa} !')"
      ],
      "metadata": {
        "id": "dbX1fKqy2HnE",
        "outputId": "8e203835-ed79-4320-b257-ee6bccdd4635",
        "colab": {
          "base_uri": "https://localhost:8080/"
        }
      },
      "execution_count": 6,
      "outputs": [
        {
          "output_type": "stream",
          "name": "stdout",
          "text": [
            "Por favor,digite seu nome:Homer\n",
            "Olá, Homer !\n"
          ]
        }
      ]
    },
    {
      "cell_type": "markdown",
      "source": [
        "#### Questão 2\n",
        "Crie um programa que solicite à pessoa usuária digitar seu nome e idade, e imprima “Olá, [nome], você tem [idade] anos.”."
      ],
      "metadata": {
        "id": "BJ1SznEp70d5"
      }
    },
    {
      "cell_type": "code",
      "source": [
        "nome_pessoa = input('Por favor,digite seu nome:')\n",
        "idade_pessoa = input('Por favor,digite sua idade:')\n",
        "print(f'Olá, {nome_pessoa} Você tem {idade_pessoa} anos !')"
      ],
      "metadata": {
        "id": "jKz-0Sq8PFkp",
        "outputId": "084af329-5454-4fa3-d6e2-0b13be7113ef",
        "colab": {
          "base_uri": "https://localhost:8080/"
        }
      },
      "execution_count": 7,
      "outputs": [
        {
          "output_type": "stream",
          "name": "stdout",
          "text": [
            "Por favor,digite seu nome:McClaud\n",
            "Por favor,digite sua idade:451\n",
            "Olá, McClaud Você tem 451 anos !\n"
          ]
        }
      ]
    },
    {
      "cell_type": "markdown",
      "source": [
        "#### Questão 3\n",
        "Crie um programa que solicite à pessoa usuária digitar seu nome, idade e altura em metros, e imprima “Olá, [nome], você tem [idade] anos e mede [altura] metros!”."
      ],
      "metadata": {
        "id": "2T0jNYZt70aa"
      }
    },
    {
      "cell_type": "code",
      "source": [
        "nome_pessoa = input('Por favor,digite seu nome:')\n",
        "idade_pessoa = input('Por favor,digite sua idade:')\n",
        "altura_pessoa = input('Por favor,digite sua altura:')\n",
        "\n",
        "print(f'Olá, {nome_pessoa} Você tem {idade_pessoa} anos e mede {altura_pessoa} metros')"
      ],
      "metadata": {
        "id": "pI4kHNzTPIXh",
        "outputId": "e1424777-9aa1-44f1-b3a2-3a83ef252e20",
        "colab": {
          "base_uri": "https://localhost:8080/"
        }
      },
      "execution_count": 8,
      "outputs": [
        {
          "output_type": "stream",
          "name": "stdout",
          "text": [
            "Por favor,digite seu nome:Modrum\n",
            "Por favor,digite sua idade:987\n",
            "Por favor,digite sua altura:2.10\n",
            "Olá, Modrum Você tem 987 anos e mede 2.10 metros\n"
          ]
        }
      ]
    },
    {
      "cell_type": "markdown",
      "source": [
        "### Calculadora com operadores"
      ],
      "metadata": {
        "id": "mEBFwKkC70KP"
      }
    },
    {
      "cell_type": "markdown",
      "source": [
        "#### Questão 1\n",
        "\n",
        "Crie um programa que solicite dois valores numéricos à pessoa usuária e imprima a soma dos dois valores."
      ],
      "metadata": {
        "id": "H-IV1oAPPSqK"
      }
    },
    {
      "cell_type": "code",
      "source": [
        "valor1 = float(input(' Digite o primeiro valor: '))\n",
        "valor2 = float(input(' Digite o segundo valor: '))\n",
        "print(\"Soma dos valores: \", valor1 + valor2 )"
      ],
      "metadata": {
        "id": "Zb0W84sy8rnp",
        "outputId": "63758844-ee20-4096-972f-dd75f796be3a",
        "colab": {
          "base_uri": "https://localhost:8080/"
        }
      },
      "execution_count": 9,
      "outputs": [
        {
          "output_type": "stream",
          "name": "stdout",
          "text": [
            " Digite o primeiro valor: 12\n",
            " Digite o segundo valor: 4\n",
            "Soma dos valores:  16.0\n"
          ]
        }
      ]
    },
    {
      "cell_type": "markdown",
      "source": [
        "#### Questão 2\n",
        "Crie um programa que solicite três valores numéricos à pessoa usuária e imprima a soma dos três valores."
      ],
      "metadata": {
        "id": "LUoi2MOu70Em"
      }
    },
    {
      "cell_type": "code",
      "source": [
        "valor1 = float(input(' Digite o primeiro valor: '))\n",
        "valor2 = float(input(' Digite o segundo valor: '))\n",
        "valor3 = float(input(' Digite o terceiro valor: '))\n",
        "print(\"Soma dos valores: \", valor1 + valor2 + valor3 )"
      ],
      "metadata": {
        "id": "4FYjWyBS8rDm",
        "outputId": "055f1901-90f8-4119-b37f-75cc489f4b7f",
        "colab": {
          "base_uri": "https://localhost:8080/"
        }
      },
      "execution_count": 10,
      "outputs": [
        {
          "output_type": "stream",
          "name": "stdout",
          "text": [
            " Digite o primeiro valor: 3\n",
            " Digite o segundo valor: 5\n",
            " Digite o terceiro valor: 4\n",
            "Soma dos valores:  12.0\n"
          ]
        }
      ]
    },
    {
      "cell_type": "markdown",
      "source": [
        "#### Questão 3\n",
        "Crie um programa que solicite dois valores numéricos à pessoa usuária e imprima a subtração do primeiro pelo o segundo valor."
      ],
      "metadata": {
        "id": "lezGctF07z8i"
      }
    },
    {
      "cell_type": "code",
      "source": [
        "valor1 = float(input(' Digite o primeiro valor: '))\n",
        "valor2 = float(input(' Digite o segundo valor: '))\n",
        "print(\"Subtração do primeiro pelo segundo: \", valor1 - valor2 )"
      ],
      "metadata": {
        "id": "k0GE1z4w8p3J",
        "outputId": "fd709c0f-ea3c-452c-c1bf-b3cb516b6eab",
        "colab": {
          "base_uri": "https://localhost:8080/"
        }
      },
      "execution_count": 11,
      "outputs": [
        {
          "output_type": "stream",
          "name": "stdout",
          "text": [
            " Digite o primeiro valor: 10\n",
            " Digite o segundo valor: 7\n",
            "Subtração do primeiro pelo segundo:  3.0\n"
          ]
        }
      ]
    },
    {
      "cell_type": "markdown",
      "source": [
        "#### Questão 4\n",
        "\n",
        "Crie um programa que solicite dois valores numéricos à pessoa usuária e imprima a multiplicação dos dois valores.\n"
      ],
      "metadata": {
        "id": "wwMP-dPU7zxW"
      }
    },
    {
      "cell_type": "code",
      "source": [
        "valor1 = float(input(' Digite o primeiro valor: '))\n",
        "valor2 = float(input(' Digite o segundo valor: '))\n",
        "print(\"Multiplicacao dos valores: \", valor1 * valor2 )"
      ],
      "metadata": {
        "id": "GzFCVHfp8peZ",
        "outputId": "c392029f-5424-4b04-850d-dae47b5ca552",
        "colab": {
          "base_uri": "https://localhost:8080/"
        }
      },
      "execution_count": 12,
      "outputs": [
        {
          "output_type": "stream",
          "name": "stdout",
          "text": [
            " Digite o primeiro valor: 5\n",
            " Digite o segundo valor: 2\n",
            "Multiplicacao dos valores:  10.0\n"
          ]
        }
      ]
    },
    {
      "cell_type": "markdown",
      "source": [
        "#### Questão 5\n",
        "\n",
        "Crie um programa que solicite dois valores numéricos, um numerador e um denominador, e realize a divisão entre os dois valores. Deixe claro que o valor do denominador não pode ser `0`.\n"
      ],
      "metadata": {
        "id": "9kxyHxUo7zRD"
      }
    },
    {
      "cell_type": "code",
      "source": [
        "valor1 = float(input(' Digite o primeiro valor: NUMERADOR '))\n",
        "valor2 = float(input(' Digite o segundo valor: DENOMINADOR - NAO PODE SER ZERO !!! '))\n",
        "print(\"Divisão dos valores: \", valor1 / valor2 )"
      ],
      "metadata": {
        "id": "ytJ8l5KH8ozc",
        "outputId": "3c9bb884-9601-409c-d651-99d4640ca893",
        "colab": {
          "base_uri": "https://localhost:8080/"
        }
      },
      "execution_count": 13,
      "outputs": [
        {
          "output_type": "stream",
          "name": "stdout",
          "text": [
            " Digite o primeiro valor: NUMERADOR 12\n",
            " Digite o segundo valor: DENOMINADOR - NAO PODE SER ZERO !!! 4\n",
            "Divisão dos valores:  3.0\n"
          ]
        }
      ]
    },
    {
      "cell_type": "markdown",
      "source": [
        "#### Questão 6\n",
        "\n",
        "Crie um programa que solicite dois valores numéricos, um operador e uma potência, e realize a exponenciação entre esses dois valores.\n"
      ],
      "metadata": {
        "id": "zkUSBTQq8Hxt"
      }
    },
    {
      "cell_type": "code",
      "source": [
        "valor1 = float(input(' Digite o primeiro valor: OPERADOR '))\n",
        "valor2 = float(input(' Digite o segundo valor: POTÊNCIA '))\n",
        "print(\"Exponenciacao: \", valor1 ** valor2 )"
      ],
      "metadata": {
        "id": "RPj36jq08oZp",
        "outputId": "34d5e525-dffb-4d49-c670-a4e05b41c83f",
        "colab": {
          "base_uri": "https://localhost:8080/"
        }
      },
      "execution_count": 14,
      "outputs": [
        {
          "output_type": "stream",
          "name": "stdout",
          "text": [
            " Digite o primeiro valor: OPERADOR 2\n",
            " Digite o segundo valor: POTÊNCIA 3\n",
            "Exponenciacao:  8.0\n"
          ]
        }
      ]
    },
    {
      "cell_type": "markdown",
      "source": [
        "#### Questão 7\n",
        "Crie um programa que solicite dois valores numéricos, um numerador e um denominador e realize a divisão inteira entre os dois valores. Deixe claro que o valor do denominador não pode ser `0`."
      ],
      "metadata": {
        "id": "yiunIusZ8Huj"
      }
    },
    {
      "cell_type": "code",
      "source": [
        "valor1 = float(input(' Digite o primeiro valor: NUMERADOR '))\n",
        "valor2 = float(input(' Digite o segundo valor: DENOMINADOR - NAO PODE SER ZERO !!! '))\n",
        "print(\"Divisão INTEIRA dos valores: \", valor1 // valor2 )"
      ],
      "metadata": {
        "id": "UHK8xITf8oCg",
        "outputId": "abc89f58-9371-40a6-ec6e-bb3c6599a89c",
        "colab": {
          "base_uri": "https://localhost:8080/"
        }
      },
      "execution_count": 15,
      "outputs": [
        {
          "output_type": "stream",
          "name": "stdout",
          "text": [
            " Digite o primeiro valor: NUMERADOR 5\n",
            " Digite o segundo valor: DENOMINADOR - NAO PODE SER ZERO !!! 3\n",
            "Divisão INTEIRA dos valores:  1.0\n"
          ]
        }
      ]
    },
    {
      "cell_type": "markdown",
      "source": [
        "#### Questão 8\n",
        "\n",
        "Crie um programa que solicite dois valores numéricos, um numerador e um denominador, e retorne o resto da divisão entre os dois valores. Deixe claro que o valor do denominador não pode ser `0`."
      ],
      "metadata": {
        "id": "z_D_JiLX8Hra"
      }
    },
    {
      "cell_type": "code",
      "source": [
        "valor1 = float(input(' Digite o primeiro valor: NUMERADOR '))\n",
        "valor2 = float(input(' Digite o segundo valor: DENOMINADOR - NAO PODE SER ZERO !!! '))\n",
        "print(\"REsto da Divisão dos valores: \", valor1 % valor2 )"
      ],
      "metadata": {
        "id": "EWGJeukO8nqx",
        "outputId": "1263709c-9c78-4197-8d3b-dd332671ad1d",
        "colab": {
          "base_uri": "https://localhost:8080/"
        }
      },
      "execution_count": 16,
      "outputs": [
        {
          "output_type": "stream",
          "name": "stdout",
          "text": [
            " Digite o primeiro valor: NUMERADOR 5\n",
            " Digite o segundo valor: DENOMINADOR - NAO PODE SER ZERO !!! 3\n",
            "REsto da Divisão dos valores:  2.0\n"
          ]
        }
      ]
    },
    {
      "cell_type": "markdown",
      "source": [
        "#### Questão 9\n",
        "\n",
        "Crie um código que solicita 3 notas de um estudante e imprima a média das notas."
      ],
      "metadata": {
        "id": "RDRajNkU8N8N"
      }
    },
    {
      "cell_type": "code",
      "source": [
        "nota1 = float(input(' Digite a primeira nota'))\n",
        "nota2 = float(input(' Digite a segunda nota'))\n",
        "nota3 = float(input(' Digite a terceira nota'))\n",
        "print(\"Média: \", (nota1+nota2+nota3)/3 )"
      ],
      "metadata": {
        "id": "H6F4Ojzt8nSR",
        "outputId": "b7d5a3f6-1477-4472-967b-a11a93036b13",
        "colab": {
          "base_uri": "https://localhost:8080/"
        }
      },
      "execution_count": 17,
      "outputs": [
        {
          "output_type": "stream",
          "name": "stdout",
          "text": [
            " Digite a primeira nota8\n",
            " Digite a segunda nota9\n",
            " Digite a terceira nota9\n",
            "Média:  8.666666666666666\n"
          ]
        }
      ]
    },
    {
      "cell_type": "markdown",
      "source": [
        "#### Questão 10\n",
        "\n",
        "Crie um código que calcule e imprima a média ponderada dos números 5, 12, 20 e 15 com pesos respectivamente iguais a 1, 2, 3 e 4."
      ],
      "metadata": {
        "id": "d7fjkne58N21"
      }
    },
    {
      "cell_type": "code",
      "source": [
        "media_ponderada = (5 * 1 + 12 * 2 + 20 * 3 + 15 * 4) / (1 + 2 + 3 + 4)\n",
        "print(\"Média ponderada: \", media_ponderada)"
      ],
      "metadata": {
        "id": "fwjoHlV48mkv",
        "outputId": "6adebda5-69c9-4d45-9b8c-a538294137b2",
        "colab": {
          "base_uri": "https://localhost:8080/"
        }
      },
      "execution_count": 18,
      "outputs": [
        {
          "output_type": "stream",
          "name": "stdout",
          "text": [
            "Média ponderada:  14.9\n"
          ]
        }
      ]
    },
    {
      "cell_type": "markdown",
      "source": [
        "### Editando textos"
      ],
      "metadata": {
        "id": "GNmbX1OU8N0V"
      }
    },
    {
      "cell_type": "markdown",
      "source": [
        "#### Questão 1\n",
        "\n",
        "Crie uma variável chamada “`frase`” e atribua a ela uma string de sua escolha. Em seguida, imprima a frase na tela."
      ],
      "metadata": {
        "id": "6wZ85mCsRCV0"
      }
    },
    {
      "cell_type": "code",
      "source": [
        "frase = \"we shall never surrender\"\n",
        "print(frase)"
      ],
      "metadata": {
        "id": "eRqr_gh-8mFy",
        "outputId": "bdf25514-5a3b-41d8-d2fc-bff303f69412",
        "colab": {
          "base_uri": "https://localhost:8080/"
        }
      },
      "execution_count": 19,
      "outputs": [
        {
          "output_type": "stream",
          "name": "stdout",
          "text": [
            "we shall never surrender\n"
          ]
        }
      ]
    },
    {
      "cell_type": "markdown",
      "source": [
        "#### Questão 2\n",
        "Crie um código que solicite uma frase e depois imprima a frase na tela."
      ],
      "metadata": {
        "id": "Aac17z-18Nwv"
      }
    },
    {
      "cell_type": "code",
      "source": [
        "frase2 = input(\"Digite uma frase: \")\n",
        "print(frase2)"
      ],
      "metadata": {
        "id": "8zfE2hh98lb0",
        "outputId": "ab71c55b-64f4-44f9-d487-b681bcb7db47",
        "colab": {
          "base_uri": "https://localhost:8080/"
        }
      },
      "execution_count": 20,
      "outputs": [
        {
          "output_type": "stream",
          "name": "stdout",
          "text": [
            "Digite uma frase: What a beautiful day\n",
            "What a beautiful day\n"
          ]
        }
      ]
    },
    {
      "cell_type": "markdown",
      "source": [
        "#### Questão 3\n",
        "\n",
        "Crie um código que solicite uma frase à pessoa usuária e imprima a mesma frase digitada mas com todas as letras maiúsculas."
      ],
      "metadata": {
        "id": "DXVzqpN58Ntr"
      }
    },
    {
      "cell_type": "code",
      "source": [
        "frase2 = input(\"Digite uma frase: \")\n",
        "print(frase2.upper())"
      ],
      "metadata": {
        "id": "d0VzoYP68k-I",
        "outputId": "9e72932e-dc0d-4259-9bc4-d60e81b8cb4a",
        "colab": {
          "base_uri": "https://localhost:8080/"
        }
      },
      "execution_count": 21,
      "outputs": [
        {
          "output_type": "stream",
          "name": "stdout",
          "text": [
            "Digite uma frase: What a beautiful day\n",
            "WHAT A BEAUTIFUL DAY\n"
          ]
        }
      ]
    },
    {
      "cell_type": "markdown",
      "source": [
        "#### Questão 4\n",
        "\n",
        "Crie um código que solicite uma frase à pessoa usuária e imprima a mesma frase digitada mas com todas as letras minúsculas."
      ],
      "metadata": {
        "id": "I12VeNPK8Nqb"
      }
    },
    {
      "cell_type": "code",
      "source": [
        "frase2 = input(\"Digite uma frase: \")\n",
        "print(frase2.lower())"
      ],
      "metadata": {
        "id": "KD8rNy2K8kox",
        "outputId": "1b4a457e-d7f3-44a6-8ec8-a44db2c1a322",
        "colab": {
          "base_uri": "https://localhost:8080/"
        }
      },
      "execution_count": 22,
      "outputs": [
        {
          "output_type": "stream",
          "name": "stdout",
          "text": [
            "Digite uma frase: What a beautiful day\n",
            "what a beautiful day\n"
          ]
        }
      ]
    },
    {
      "cell_type": "markdown",
      "source": [
        "#### Questão 5\n",
        "\n",
        "Crie uma variável chamada “`frase`” e atribua a ela uma string de sua escolha. Em seguida, imprima a frase sem espaços em branco no início e no fim."
      ],
      "metadata": {
        "id": "cRqngSE48Nog"
      }
    },
    {
      "cell_type": "code",
      "source": [
        "frase = \"     Vamos para Londres amanhã ?    \"\n",
        "print(frase.strip())"
      ],
      "metadata": {
        "id": "aSCpdF-o8kBs",
        "outputId": "aa4f74d2-8b32-478b-d226-ff9fe4e966bf",
        "colab": {
          "base_uri": "https://localhost:8080/"
        }
      },
      "execution_count": 23,
      "outputs": [
        {
          "output_type": "stream",
          "name": "stdout",
          "text": [
            "Vamos para Londres amanhã ?\n"
          ]
        }
      ]
    },
    {
      "cell_type": "markdown",
      "source": [
        "#### Questão 6\n",
        "\n",
        "Crie um código que solicite uma frase à pessoa usuária e imprima a mesma frase sem espaços em branco no início e no fim."
      ],
      "metadata": {
        "id": "murIazpQ8Nkv"
      }
    },
    {
      "cell_type": "code",
      "source": [
        "frase2 = input(\"Digite uma frase: \")\n",
        "print(frase2.strip())"
      ],
      "metadata": {
        "id": "tHunjwuG8jNq",
        "outputId": "625f429a-c84b-41e4-a313-7e2b3ffd658b",
        "colab": {
          "base_uri": "https://localhost:8080/"
        }
      },
      "execution_count": 24,
      "outputs": [
        {
          "output_type": "stream",
          "name": "stdout",
          "text": [
            "Digite uma frase:            DEixei muitos espacos.   \n",
            "DEixei muitos espacos.\n"
          ]
        }
      ]
    },
    {
      "cell_type": "markdown",
      "source": [
        "#### Questão 7\n",
        "\n",
        "\n",
        "Crie um código que solicite uma frase à pessoa usuária e imprima a mesma frase sem espaços em branco no início e no fim e em letras minúsculas."
      ],
      "metadata": {
        "id": "eRxc2OeX8Nh2"
      }
    },
    {
      "cell_type": "code",
      "source": [
        "frase2 = input(\"Digite uma frase: \")\n",
        "print(frase2.strip().lower())"
      ],
      "metadata": {
        "id": "DYm0_UwS8ih6",
        "outputId": "55e8ac69-01f0-4e10-bfdd-dcd11098620f",
        "colab": {
          "base_uri": "https://localhost:8080/"
        }
      },
      "execution_count": 25,
      "outputs": [
        {
          "output_type": "stream",
          "name": "stdout",
          "text": [
            "Digite uma frase: PARE agora.   \n",
            "pare agora.\n"
          ]
        }
      ]
    },
    {
      "cell_type": "markdown",
      "source": [
        "#### Questão 8\n",
        "\n",
        "Crie um código que solicite uma frase à pessoa usuária e imprima a mesma frase com todas as vogais “`e`” trocadas pela letra “`f`”."
      ],
      "metadata": {
        "id": "UKATLavs8NfI"
      }
    },
    {
      "cell_type": "code",
      "source": [
        "frase2 = input(\"Digite uma frase: \")\n",
        "print(frase2.replace('e','f'))"
      ],
      "metadata": {
        "id": "k64C5G5S8iLO",
        "outputId": "a0ae26f5-60ca-4fa2-8a00-12686b72468e",
        "colab": {
          "base_uri": "https://localhost:8080/"
        }
      },
      "execution_count": 26,
      "outputs": [
        {
          "output_type": "stream",
          "name": "stdout",
          "text": [
            "Digite uma frase: Estádio de Futebol\n",
            "Estádio df Futfbol\n"
          ]
        }
      ]
    },
    {
      "cell_type": "markdown",
      "source": [
        "#### Questão 9\n",
        "\n",
        "\n",
        "Crie um código que solicite uma frase à pessoa usuária e imprima a mesma frase com todas as vogais “`a`” trocadas pela caractere  “`@`”."
      ],
      "metadata": {
        "id": "n_1SPchw8NdG"
      }
    },
    {
      "cell_type": "code",
      "source": [
        "frase2 = input(\"Digite uma frase: \")\n",
        "print(frase2.replace('a','@'))"
      ],
      "metadata": {
        "id": "msaDNm_p8h0D",
        "outputId": "2a9660cb-4a8b-408e-9b8b-c0d1e66dc28a",
        "colab": {
          "base_uri": "https://localhost:8080/"
        }
      },
      "execution_count": 27,
      "outputs": [
        {
          "output_type": "stream",
          "name": "stdout",
          "text": [
            "Digite uma frase: Cabana Aberta\n",
            "C@b@n@ Abert@\n"
          ]
        }
      ]
    },
    {
      "cell_type": "markdown",
      "source": [],
      "metadata": {
        "id": "ymGxtXsoMQyG"
      }
    },
    {
      "cell_type": "markdown",
      "source": [
        "#### Questão 10\n",
        "\n",
        "\n",
        "Crie um código que solicite uma frase à pessoa usuária e imprima a mesma frase com todas as consoantes “`s`” trocadas pelo caractere  “`$`”."
      ],
      "metadata": {
        "id": "H3sTTjqI8Naa"
      }
    },
    {
      "cell_type": "code",
      "source": [
        "frase2 = input(\"Digite uma frase: \")\n",
        "print(frase2.replace('s','$'))"
      ],
      "metadata": {
        "id": "RPBIsWT68e-1",
        "outputId": "a5fd9c47-aa2a-4cf1-ce1c-e51ada2a0368",
        "colab": {
          "base_uri": "https://localhost:8080/"
        }
      },
      "execution_count": 28,
      "outputs": [
        {
          "output_type": "stream",
          "name": "stdout",
          "text": [
            "Digite uma frase: Sabor sensacional de peras. \n",
            "Sabor $en$acional de pera$. \n"
          ]
        }
      ]
    },
    {
      "cell_type": "markdown",
      "source": [
        "## Aula 3 - Estruturas condicionais"
      ],
      "metadata": {
        "id": "XGePe4GD2I59"
      }
    },
    {
      "cell_type": "markdown",
      "source": [
        "### Aquecendo na programação"
      ],
      "metadata": {
        "id": "Pr9HTW0UHCdD"
      }
    },
    {
      "cell_type": "markdown",
      "source": [
        "#### Questão 1\n",
        "Escreva um programa que peça à pessoa usuária para fornecer dois números e exibir o número maior."
      ],
      "metadata": {
        "id": "xBZHqhVg80Fy"
      }
    },
    {
      "cell_type": "code",
      "source": [
        "\n",
        "num1 = float(input('Digite o 1° número: '))\n",
        "\n",
        "num2 = float(input('Digite o 2° número: '))\n",
        "\n",
        "if num1 > num2:\n",
        "  print(f'O número {num1} é maior que o número {num2}')\n",
        "elif num1 < num2:\n",
        "  print(f'O número {num2} é maior que o número {num1}')\n",
        "else:\n",
        "  print(f'Os números {num1} e {num2} são iguais')"
      ],
      "metadata": {
        "id": "GJlGnzjc-xyF",
        "outputId": "4f74233f-fd8d-4054-bbdc-2352b9a6842f",
        "colab": {
          "base_uri": "https://localhost:8080/"
        }
      },
      "execution_count": 29,
      "outputs": [
        {
          "output_type": "stream",
          "name": "stdout",
          "text": [
            "Digite o 1° número: 3\n",
            "Digite o 2° número: 8\n",
            "O número 8.0 é maior que o número 3.0\n"
          ]
        }
      ]
    },
    {
      "cell_type": "markdown",
      "source": [
        "#### Questão 2\n",
        "Escreva um programa que solicite o percentual de crescimento de produção de uma empresa e informe se houve um crescimento (porcentagem positiva) ou decrescimento (porcentagem negativa)."
      ],
      "metadata": {
        "id": "H4sgN7dyHNJF"
      }
    },
    {
      "cell_type": "code",
      "source": [
        "crescimento = float(input('Digite o percentual de crescimento de produção da empresa: '))\n",
        "\n",
        "if crescimento > 0:\n",
        "  print(f'Houve um crescimento de {crescimento}%')\n",
        "\n",
        "elif crescimento < 0:\n",
        "  print(f'Houve um decrescimento de {crescimento}%')\n",
        "\n",
        "else:\n",
        "  print(f'Sem alteração no crescimento')"
      ],
      "metadata": {
        "id": "-2_Ry5XJ-yZW",
        "outputId": "6d0805de-764b-4d1e-d4b8-87accf76aad3",
        "colab": {
          "base_uri": "https://localhost:8080/"
        }
      },
      "execution_count": 30,
      "outputs": [
        {
          "output_type": "stream",
          "name": "stdout",
          "text": [
            "Digite o percentual de crescimento de produção da empresa: 12\n",
            "Houve um crescimento de 12.0%\n"
          ]
        }
      ]
    },
    {
      "cell_type": "markdown",
      "source": [
        "#### Questão 3\n",
        "Escreva um programa que determine se uma letra fornecida pela pessoa usuária é uma vogal ou consoante."
      ],
      "metadata": {
        "id": "a_mzNOBDHNny"
      }
    },
    {
      "cell_type": "code",
      "source": [
        "vogais = 'a, e, i, o, u, A, E, I, O, U'\n",
        "\n",
        "letra = input('Digite uma letra: ')\n",
        "\n",
        "if letra in vogais:\n",
        "  print(f'A letra {letra} é uma vogal')\n",
        "else:\n",
        "  print(f'A letra {letra} é uma consoante')"
      ],
      "metadata": {
        "id": "NbgndVyg-zFJ",
        "outputId": "a8aa1b5d-1bc3-47aa-cc5a-b0c9f9a2fdd1",
        "colab": {
          "base_uri": "https://localhost:8080/"
        }
      },
      "execution_count": 31,
      "outputs": [
        {
          "output_type": "stream",
          "name": "stdout",
          "text": [
            "Digite uma letra: e\n",
            "A letra e é uma vogal\n"
          ]
        }
      ]
    },
    {
      "cell_type": "markdown",
      "source": [
        "#### Questão 4\n",
        "Escreva um programa que leia valores médios de preços de um modelo de carro por 3 anos consecutivos e exiba o valor mais alto e mais baixo entre esses três anos."
      ],
      "metadata": {
        "id": "mofMRjSZHP99"
      }
    },
    {
      "cell_type": "code",
      "source": [
        "ano1 = float(input('Digite o preço médio do carro no 1° ano: '))\n",
        "ano2 = float(input('Digite o preço médio do carro no 2° ano: '))\n",
        "ano3 = float(input('Digite o preço médio do carro no 3° ano: '))\n",
        "\n",
        "if ano1 > ano2 and ano1 > ano3:\n",
        "  print(f'O preço médio do carro no 1° ano é o mais alto: {ano1}')\n",
        "elif ano2 > ano1 and ano2 > ano3:\n",
        "  print(f'O preço médio do carro no 2° ano é o mais alto: {ano2}')\n",
        "else:\n",
        "   if ano3 > ano2 and ano3 > ano1:\n",
        "      print(f'O preço médio do carro no 3° ano é o mais alto: {ano3}')\n",
        "\n",
        "if ano1 < ano2 and ano1 < ano3:\n",
        "  print(f'O preço médio do carro no 1° ano é o mais baixo: {ano1}')\n",
        "elif ano2 < ano3 and ano2 < ano3:\n",
        "  print(f'O preço médio do carro no 2 ano é o mais baixo: {ano2}')\n",
        "else:\n",
        "    print(f'O preço médio do carro no 3° ano é o mais baixo: {ano3}')"
      ],
      "metadata": {
        "id": "TX--d3k9-02c",
        "outputId": "17264ae2-bbb0-48bd-e561-bd977f4a2203",
        "colab": {
          "base_uri": "https://localhost:8080/"
        }
      },
      "execution_count": 32,
      "outputs": [
        {
          "output_type": "stream",
          "name": "stdout",
          "text": [
            "Digite o preço médio do carro no 1° ano: 120\n",
            "Digite o preço médio do carro no 2° ano: 123\n",
            "Digite o preço médio do carro no 3° ano: 144\n",
            "O preço médio do carro no 3° ano é o mais alto: 144.0\n",
            "O preço médio do carro no 1° ano é o mais baixo: 120.0\n"
          ]
        }
      ]
    },
    {
      "cell_type": "markdown",
      "source": [
        "#### Questão 5\n",
        "Escreva um programa que pergunte sobre o preço de três produtos e indique qual é o produto mais barato para comprar."
      ],
      "metadata": {
        "id": "jY5tIwd-HQzc"
      }
    },
    {
      "cell_type": "code",
      "source": [
        "preco1 = float(input(\"Informe preço produto 1  \"))\n",
        "preco2 = float(input(\"Informe preço produto 2  \"))\n",
        "preco3 = float(input(\"Informe preço produto 3  \"))\n",
        "\n",
        "if preco1 < preco2 and preco1 < preco3:\n",
        "  print(f'Produto 1 é o mais barato: {preco1}')\n",
        "\n",
        "elif preco2 < preco1 and preco2 < preco3:\n",
        "  print(f'Produto 2 é o mais barato: {preco2}')\n",
        "\n",
        "else:\n",
        "  print(f'Produto 3 é o mais barato: {preco3}')\n"
      ],
      "metadata": {
        "id": "sYqNh9df-0gk",
        "outputId": "663dfe1b-81c1-4ddc-bcdf-7948e2bd3eb6",
        "colab": {
          "base_uri": "https://localhost:8080/"
        }
      },
      "execution_count": 33,
      "outputs": [
        {
          "output_type": "stream",
          "name": "stdout",
          "text": [
            "Informe preço produto 1  23.90\n",
            "Informe preço produto 2  44.00\n",
            "Informe preço produto 3  45.00\n",
            "Produto 1 é o mais barato: 23.9\n"
          ]
        }
      ]
    },
    {
      "cell_type": "markdown",
      "source": [
        "#### Questão 6\n",
        "Escreva um programa que leia três números e os exiba em ordem decrescente."
      ],
      "metadata": {
        "id": "1r6aVxtTHR4E"
      }
    },
    {
      "cell_type": "code",
      "source": [
        "numero1 = float(input(\"Informe número 1  \"))\n",
        "numero2 = float(input(\"Informe número 2  \"))\n",
        "numero3 = float(input(\"Informe número 3  \"))\n",
        "\n",
        "if numero1 >= numero2 and numero1 >= numero3:\n",
        "    dec1 = numero1\n",
        "    if numero2 >= numero3:\n",
        "        dec2 = numero2\n",
        "        dec3 = numero3\n",
        "    else:\n",
        "        dec2 = numero3\n",
        "        dec3 = numero2\n",
        "elif numero2 >= numero1 and numero2 >= numero3:\n",
        "    dec1 = numero2\n",
        "    if numero1 >= numero3:\n",
        "        dec2 = numero1\n",
        "        dec3 = numero3\n",
        "    else:\n",
        "        dec2 = numero3\n",
        "        dec3 = numero1\n",
        "else:\n",
        "    dec1 = numero3\n",
        "    if numero1 >= numero2:\n",
        "        dec2 = numero1\n",
        "        dec3 = numero2\n",
        "    else:\n",
        "        dec2 = numero2\n",
        "        dec3 = numero1\n",
        "\n",
        "print(f'Números em ordem decrescente: {dec1}, {dec2}, {dec3}')\n"
      ],
      "metadata": {
        "id": "ydOCYUMO-0Hk",
        "outputId": "862ae111-f076-49ae-edb3-1076275c1982",
        "colab": {
          "base_uri": "https://localhost:8080/"
        }
      },
      "execution_count": 34,
      "outputs": [
        {
          "output_type": "stream",
          "name": "stdout",
          "text": [
            "Informe número 1  87\n",
            "Informe número 2  23\n",
            "Informe número 3  45\n",
            "Números em ordem decrescente: 87.0, 45.0, 23.0\n"
          ]
        }
      ]
    },
    {
      "cell_type": "markdown",
      "source": [
        "#### Questão 7\n",
        "Escreva um programa que pergunte em qual turno a pessoa usuária estuda (\"manhã\", \"tarde\" ou \"noite\") e exiba a mensagem \"Bom Dia!\", \"Boa Tarde!\", \"Boa Noite!\", ou \"Valor Inválido!\", conforme o caso."
      ],
      "metadata": {
        "id": "inW3F-hAHS_X"
      }
    },
    {
      "cell_type": "code",
      "source": [
        "turno = input('Em qual turno você estuda? ')\n",
        "\n",
        "if turno == 'manhã':\n",
        "  print('Bom dia!')\n",
        "elif turno == 'tarde':\n",
        "  print('Boa tarde!')\n",
        "elif turno == 'noite':\n",
        "  print('Boa noite!')\n",
        "else:\n",
        "  print('Valor inválido!')\n"
      ],
      "metadata": {
        "id": "-_q-Pcr_-zth",
        "outputId": "5923c3cd-ae68-45e0-ccd9-971686206a08",
        "colab": {
          "base_uri": "https://localhost:8080/"
        }
      },
      "execution_count": 35,
      "outputs": [
        {
          "output_type": "stream",
          "name": "stdout",
          "text": [
            "Em qual turno você estuda? manhã\n",
            "Bom dia!\n"
          ]
        }
      ]
    },
    {
      "cell_type": "markdown",
      "source": [
        "#### Questão 8\n",
        "Escreva um programa que peça um número inteiro à pessoa usuária e determine se ele é par ou ímpar. Dica: Você pode utilizar o operador módulo `%`."
      ],
      "metadata": {
        "id": "NCCPF3QqHTw-"
      }
    },
    {
      "cell_type": "code",
      "source": [
        "numero = int(input('Digite um número inteiro: '))\n",
        "\n",
        "if numero % 2 == 0:\n",
        "  print(f'O número {numero} é par')\n",
        "else:\n",
        "  print(f'O número {numero} é ímpar')\n"
      ],
      "metadata": {
        "id": "OmZJt1nQ-3e6",
        "outputId": "bd1d0f3f-88ab-42c3-981d-502181d2eac0",
        "colab": {
          "base_uri": "https://localhost:8080/"
        }
      },
      "execution_count": 36,
      "outputs": [
        {
          "output_type": "stream",
          "name": "stdout",
          "text": [
            "Digite um número inteiro: 9\n",
            "O número 9 é ímpar\n"
          ]
        }
      ]
    },
    {
      "cell_type": "markdown",
      "source": [
        "#### Questão 9\n",
        "Escreva um programa que peça um número à pessoa usuária e informe se ele é inteiro ou decimal."
      ],
      "metadata": {
        "id": "h93Ck1tQHUwE"
      }
    },
    {
      "cell_type": "code",
      "source": [
        "numero = float(input('Digite um número: '))\n",
        "\n",
        "if numero == int(numero):\n",
        "  print(f'O número {numero} é inteiro')\n",
        "else:\n",
        "  print(f'O número {numero} é decimal')\n"
      ],
      "metadata": {
        "id": "sLMlZcx8-20N",
        "outputId": "001fe9b9-eb50-4738-f2aa-250ba0270fdd",
        "colab": {
          "base_uri": "https://localhost:8080/"
        }
      },
      "execution_count": 37,
      "outputs": [
        {
          "output_type": "stream",
          "name": "stdout",
          "text": [
            "Digite um número: 9.867\n",
            "O número 9.867 é decimal\n"
          ]
        }
      ]
    },
    {
      "cell_type": "markdown",
      "source": [
        "### Momento dos projetos"
      ],
      "metadata": {
        "id": "bKdXSK1SH_pF"
      }
    },
    {
      "cell_type": "markdown",
      "source": [
        "#### Questão 10\n",
        "Um programa deve ser escrito para ler dois números e, em seguida, perguntar à pessoa usuária qual operação ele deseja realizar. O resultado da operação deve incluir informações sobre o número - se é par ou ímpar, positivo ou negativo e inteiro ou decimal."
      ],
      "metadata": {
        "id": "WBlEyyzsHV86"
      }
    },
    {
      "cell_type": "code",
      "source": [
        "numero1 = float(input('Digite o 1° número: '))\n",
        "numero2 = float(input('Digite o 2° número: '))\n",
        "\n",
        "operacao = input('Qual operação deseja realizar? ')\n",
        "\n",
        "if operacao == '+':\n",
        "  resultado = numero1 + numero2\n",
        "elif operacao == '-':\n",
        "  resultado = numero1 - numero2\n",
        "elif operacao == '*':\n",
        "  resultado = numero1 * numero2\n",
        "elif operacao == '/':\n",
        "  resultado = numero1 / numero2\n",
        "\n",
        "if resultado % 2 == 0:\n",
        "  print(f'O resultado da operação é {resultado} e é par')\n",
        "else:\n",
        "  print(f'O resultado da operação é {resultado} e é ímpar')\n",
        "\n",
        "if resultado > 0:\n",
        "  print(f'O resultado da operação é {resultado} e é positivo')\n",
        "else:\n",
        "  print(f'O resultado da operação é {resultado} e é negativo')\n",
        "\n",
        "if resultado == int(resultado):\n",
        "  print(f'O resultado da operação é {resultado} e é inteiro')\n",
        "else:\n",
        "  print(f'O resultado da operação é {resultado} e é decimal')\n",
        "\n"
      ],
      "metadata": {
        "id": "3jmahZ0f-2gq",
        "outputId": "911180b5-d555-46a7-893b-8c4a93a75b93",
        "colab": {
          "base_uri": "https://localhost:8080/"
        }
      },
      "execution_count": 39,
      "outputs": [
        {
          "output_type": "stream",
          "name": "stdout",
          "text": [
            "Digite o 1° número: 9\n",
            "Digite o 2° número: 8\n",
            "Qual operação deseja realizar? +\n",
            "O resultado da operação é 17.0 e é ímpar\n",
            "O resultado da operação é 17.0 e é positivo\n",
            "O resultado da operação é 17.0 e é inteiro\n"
          ]
        }
      ]
    },
    {
      "cell_type": "markdown",
      "source": [
        "#### Questão 11\n",
        "Escreva um programa que peça à pessoa usuária três números que representam os lados de um triângulo. O programa deve informar se os valores podem ser utilizados para formar um triângulo e, caso afirmativo, se ele é equilátero, isósceles ou escaleno. Tenha em mente algumas dicas:\n",
        "- Três lados formam um triângulo quando a soma de quaisquer dois lados for maior que o terceiro;\n",
        "- Triângulo Equilátero: três lados iguais;\n",
        "- Triângulo Isósceles: quaisquer dois lados iguais;\n",
        "- Triângulo Escaleno: três lados diferentes;\n"
      ],
      "metadata": {
        "id": "VdnlULxHHW19"
      }
    },
    {
      "cell_type": "code",
      "source": [
        "\n",
        "lado1 = float(input('Digite o 1° lado do triângulo: '))\n",
        "lado2 = float(input('Digite o 2° lado do triângulo: '))\n",
        "lado3 = float(input('Digite o 3° lado do triângulo: '))\n",
        "\n",
        "if lado1 + lado2 > lado3 or lado1 + lado3 > lado2 or lado2 + lado3 > lado1:\n",
        "  print('É possível formar um triângulo')\n",
        "\n",
        "if lado1 == lado2 == lado3:\n",
        "    print('É um triângulo equilátero')\n",
        "elif lado1 == lado2 or lado1 == lado3 or lado2 == lado3:\n",
        "    print('É um triângulo isósceles')\n",
        "elif lado1 != lado2 != lado3:\n",
        "    print('É um triângulo escaleno')\n"
      ],
      "metadata": {
        "id": "0z73sqUO-2Pw",
        "outputId": "fe26bd9d-6fe5-47f2-f765-f040587d23bb",
        "colab": {
          "base_uri": "https://localhost:8080/"
        }
      },
      "execution_count": 40,
      "outputs": [
        {
          "output_type": "stream",
          "name": "stdout",
          "text": [
            "Digite o 1° lado do triângulo: 12\n",
            "Digite o 2° lado do triângulo: 3\n",
            "Digite o 3° lado do triângulo: 4\n",
            "É possível formar um triângulo\n",
            "É um triângulo escaleno\n"
          ]
        }
      ]
    },
    {
      "cell_type": "markdown",
      "source": [
        "#### Questão 12\n",
        "Um estabelecimento está vendendo combustíveis com descontos variados. Para o etanol, se a quantidade comprada for até 15 litros, o desconto será de 2% por litro. Caso contrário, será de 4% por litro. Para o diesel, se a quantidade comprada for até 15 litros, o desconto será de 3% por litro. Caso contrário, será de 5% por litro. O preço do litro de diesel é R\\$ 2,00 e o preço do litro de etanol é R\\$ 1,70. Escreva um programa que leia a quantidade de litros vendidos e o tipo de combustível (E para etanol e D para diesel) e calcule o valor a ser pago pelo cliente. Tenha em mente algumas dicas:\n",
        "\n",
        "- O do valor do desconto será a multiplicação entre preço do litro, quantidade de litros e o valor do desconto.\n",
        "- O valor a ser pago por um cliente será o resultado da multiplicação do preço do litro pela quantidade de litros menos o valor de desconto resultante do cálculo.\n"
      ],
      "metadata": {
        "id": "_PpEpOugHXwZ"
      }
    },
    {
      "cell_type": "code",
      "source": [
        "\n",
        "litros = 0.00\n",
        "litros = float(input('Digite a quantidade de litros: '))\n",
        "\n",
        "tipo = input('Digite o tipo de combustível (E para etanol e D para diesel): ')\n",
        "\n",
        "if tipo == 'E':\n",
        "  if litros <= 15:\n",
        "    desconto = 0.02\n",
        "  else:\n",
        "    desconto = 0.04\n",
        "  preco = 1.70\n",
        "  pagar = (litros * preco) - (litros * preco * desconto)\n",
        "  print(f'O valor a ser pago é R$ {pagar:.2f}')\n",
        "elif tipo == 'D':\n",
        "  if litros <= 15:\n",
        "    desconto = 0.03\n",
        "  else:\n",
        "    desconto = 0.05\n",
        "    preco = 2.00\n",
        "  pagar = (litros * preco) - (litros * preco * desconto)\n",
        "  print(f'O valor a ser pago é R$ {pagar:.2f}')\n",
        "else:\n",
        "  print('Tipo de combustível inválido')"
      ],
      "metadata": {
        "id": "9izoF-0O-1yD",
        "outputId": "ef4d11bf-50fa-4634-c16c-65d10a5fe3f7",
        "colab": {
          "base_uri": "https://localhost:8080/"
        }
      },
      "execution_count": 41,
      "outputs": [
        {
          "output_type": "stream",
          "name": "stdout",
          "text": [
            "Digite a quantidade de litros: 55\n",
            "Digite o tipo de combustível (E para etanol e D para diesel): D\n",
            "O valor a ser pago é R$ 104.50\n"
          ]
        }
      ]
    },
    {
      "cell_type": "markdown",
      "source": [
        "#### Questão 13\n",
        "Em uma empresa de venda de imóveis você precisa criar um código que analise os dados de vendas anuais para ajudar a diretoria na tomada de decisão. O código precisa coletar os dados de quantidade de venda durante os anos de 2022 e 2023 e fazer um cálculo de variação percentual. A partir do valor da variação, deve ser enviada às seguintes sugestões:\n",
        "- Para variação acima de 20%: bonificação para o time de vendas.\n",
        "- Para variação entre 2% e 20%: pequena bonificação para time de vendas.\n",
        "- Para variação entre 2% e -10%: planejamento de políticas de incentivo às vendas.\n",
        "- Para bonificações abaixo de -10%: corte de gastos.\n"
      ],
      "metadata": {
        "id": "s_XS_D1WHY2R"
      }
    },
    {
      "cell_type": "code",
      "source": [
        "quantidade_vendas_2022 = float(input('Digite a quantidade de vendas em 2022: '))\n",
        "\n",
        "quantidade_vendas_2023 = float(input('Digite a quantidade de vendas em 2023: '))\n",
        "\n",
        "variacao = ((quantidade_vendas_2023 - quantidade_vendas_2022) / quantidade_vendas_2022) * 100\n",
        "\n",
        "if variacao > 20:\n",
        "   print('Bonificação para o time de vendas')\n",
        "elif variacao >= 2 and variacao <= 20:\n",
        "   print('Pequena bonificação para time de vendas')\n",
        "elif variacao >= -10 and variacao < 2:\n",
        "   print('Planejamento de políticas de incentivo às vendas')\n",
        "else:\n",
        "    print('Corte de gastos')\n"
      ],
      "metadata": {
        "id": "avQrYlUg-w8f",
        "colab": {
          "base_uri": "https://localhost:8080/"
        },
        "outputId": "b75d0d40-b61f-48d3-939b-da94c32b6713"
      },
      "execution_count": 42,
      "outputs": [
        {
          "output_type": "stream",
          "name": "stdout",
          "text": [
            "Digite a quantidade de vendas em 2022: 125000000\n",
            "Digite a quantidade de vendas em 2023: 120000000\n",
            "Planejamento de políticas de incentivo às vendas\n"
          ]
        }
      ]
    },
    {
      "cell_type": "markdown",
      "source": [
        "## Aula 4 - Estruturas de repetição"
      ],
      "metadata": {
        "id": "AuaWh4-d2Itt"
      }
    },
    {
      "cell_type": "markdown",
      "source": [
        "### Aquecendo na programação"
      ],
      "metadata": {
        "id": "6MSqU0sIJRdD"
      }
    },
    {
      "cell_type": "markdown",
      "source": [
        "#### Questão 1\n",
        "Escreva um programa que peça dois números inteiros e imprima todos os números inteiros entre eles."
      ],
      "metadata": {
        "id": "9eGGyCnAJRdQ"
      }
    },
    {
      "cell_type": "code",
      "source": [
        "\n",
        "num1 = int(input(\"Digite o 1° número: \"))\n",
        "num2 = int(input(\"Digite o 2° número: \"))\n",
        "\n",
        "for i in range(num1, (num2 + 1)):\n",
        "  print(i)\n"
      ],
      "metadata": {
        "id": "ID1oc1hxJRdQ",
        "colab": {
          "base_uri": "https://localhost:8080/"
        },
        "outputId": "24bc7981-d028-4209-d7fb-fc03b8025fbb"
      },
      "execution_count": 43,
      "outputs": [
        {
          "output_type": "stream",
          "name": "stdout",
          "text": [
            "Digite o 1° número: 8\n",
            "Digite o 2° número: 12\n",
            "8\n",
            "9\n",
            "10\n",
            "11\n",
            "12\n"
          ]
        }
      ]
    },
    {
      "cell_type": "markdown",
      "source": [
        "#### Questão 2\n",
        "Escreva um programa para calcular quantos dias levará para a colônia de uma bactéria A ultrapassar ou igualar a colônia de uma bactéria B, com base nas taxas de crescimento de 3% e 1,5% respectivamente. Considere que a colônia A inicia com 4 elementos e a colônia B com 10 elementos."
      ],
      "metadata": {
        "id": "mGonEHYCJRdR"
      }
    },
    {
      "cell_type": "code",
      "source": [
        "\n",
        "colonia_a = 4\n",
        "colonia_b = 10\n",
        "\n",
        "taxa_a = 0.03\n",
        "taxa_b = 0.015\n",
        "\n",
        "dias = 0\n",
        "\n",
        "while colonia_a <= colonia_b:\n",
        "  colonia_a *= 1 + taxa_a\n",
        "  colonia_b *= 1 + taxa_b\n",
        "  dias += 1\n",
        "\n",
        "print(f'Serão necessários {dias} dias para a colônia A ultrapassar a colônia B')\n"
      ],
      "metadata": {
        "id": "wM6FJuoqJRdR",
        "colab": {
          "base_uri": "https://localhost:8080/"
        },
        "outputId": "fa6b47fd-cdfb-49d3-9eac-062814e2a91c"
      },
      "execution_count": 44,
      "outputs": [
        {
          "output_type": "stream",
          "name": "stdout",
          "text": [
            "Serão necessários 63 dias para a colônia A ultrapassar a colônia B\n"
          ]
        }
      ]
    },
    {
      "cell_type": "markdown",
      "source": [
        "#### Questão 3\n",
        "Para tratar uma quantidade de 15 dados de avaliações de pessoas usuárias de um serviço da empresa, precisamos verificar se as notas são válidas. Então, escreva um programa que vai receber a nota de 0 a 5 de todos os dados e verificar se é um valor válido. Caso seja inserido uma nota acima de 5 ou abaixo de 0, repita até que a pessoa usuária insira um valor válido."
      ],
      "metadata": {
        "id": "UiOZRlqoJRdR"
      }
    },
    {
      "cell_type": "code",
      "source": [
        "nota = 0.0\n",
        "\n",
        "# for cont in range(16):\n",
        "for cont in range(6):\n",
        "  nota = float(input(f\"Digite nota usuario {cont + 1}: \"))\n",
        "\n",
        "  while nota < 0 or nota > 5:\n",
        "    nota = float(input(f\"Nota inválida. Digite novamente para user {cont + 1}: \"))\n",
        "\n",
        "print('Verificação feita. Todas as notas são válidas')\n",
        "\n"
      ],
      "metadata": {
        "id": "3TUAhCxcJRdR",
        "colab": {
          "base_uri": "https://localhost:8080/"
        },
        "outputId": "f1ad4650-2a2a-4dab-9d4b-c0c05e6dc654"
      },
      "execution_count": 45,
      "outputs": [
        {
          "output_type": "stream",
          "name": "stdout",
          "text": [
            "Digite nota usuario 1: 4\n",
            "Digite nota usuario 2: 6\n",
            "Nota inválida. Digite novamente para user 2: 7\n",
            "Nota inválida. Digite novamente para user 2: 7\n",
            "Nota inválida. Digite novamente para user 2: 2\n",
            "Digite nota usuario 3: 2\n",
            "Digite nota usuario 4: 2\n",
            "Digite nota usuario 5: 3\n",
            "Digite nota usuario 6: 2\n",
            "Verificação feita. Todas as notas são válidas\n"
          ]
        }
      ]
    },
    {
      "cell_type": "markdown",
      "source": [
        "#### Questão 4\n",
        "Desenvolva um programa que leia um conjunto indeterminado de temperaturas em Celsius e faça uma análise. Portanto, escreva um programa que leia temperaturas e informe a média delas. A leitura deve ser encerrada ao ser enviado o valor -273°C."
      ],
      "metadata": {
        "id": "ABv3KObGJRdR"
      }
    },
    {
      "cell_type": "code",
      "source": [
        "\n",
        "temperatura = float(input(\"Digite uma temperatura em Celsius: \"))\n",
        "\n",
        "soma = 0\n",
        "cont = 0\n",
        "\n",
        "while temperatura != -273:\n",
        "  soma += temperatura\n",
        "  cont += 1\n",
        "  temperatura = float(input(\"Digite uma temperatura em Celsius: \"))\n",
        "\n",
        "media = soma / cont\n",
        "\n",
        "print(f'A média das temperaturas é {media:.2f}')\n"
      ],
      "metadata": {
        "id": "85tBBj5KJRdS",
        "colab": {
          "base_uri": "https://localhost:8080/"
        },
        "outputId": "229cdfeb-3686-4897-c8bc-313f77f44393"
      },
      "execution_count": 46,
      "outputs": [
        {
          "output_type": "stream",
          "name": "stdout",
          "text": [
            "Digite uma temperatura em Celsius: 34\n",
            "Digite uma temperatura em Celsius: 37\n",
            "Digite uma temperatura em Celsius: 45\n",
            "Digite uma temperatura em Celsius: -273\n",
            "A média das temperaturas é 38.67\n"
          ]
        }
      ]
    },
    {
      "cell_type": "markdown",
      "source": [
        "#### Questão 5\n",
        "Escreva um programa que calcule o fatorial de um número inteiro fornecido pela pessoa usuária. O fatorial de um número inteiro é a multiplicação desse número por todos os seus antecessores até o número 1. Por exemplo, o fatorial de 5 é 5 x 4 x 3 x 2 x 1 = 120."
      ],
      "metadata": {
        "id": "IjkbAfGcJRdS"
      }
    },
    {
      "cell_type": "code",
      "source": [
        "num = int(input(\"Digite um número inteiro: \"))\n",
        "\n",
        "fatorial = 1\n",
        "\n",
        "i = num\n",
        "\n",
        "while i > 0:\n",
        "  fatorial *= i\n",
        "  i -= 1\n",
        "\n",
        "print(f'O fatorial de {num} é {fatorial}')\n",
        "\n"
      ],
      "metadata": {
        "id": "7RTH8o0HJRdS",
        "colab": {
          "base_uri": "https://localhost:8080/"
        },
        "outputId": "9e66c6c1-d6af-4a60-cd58-9ef7f2b7faa7"
      },
      "execution_count": 49,
      "outputs": [
        {
          "output_type": "stream",
          "name": "stdout",
          "text": [
            "Digite um número inteiro: 9\n",
            "O fatorial de 9 é 362880\n"
          ]
        }
      ]
    },
    {
      "cell_type": "markdown",
      "source": [
        "### Momento dos projetos"
      ],
      "metadata": {
        "id": "oGNKuQjsJRdT"
      }
    },
    {
      "cell_type": "markdown",
      "source": [
        "#### Questão 6\n",
        "Escreva um programa que gere a tabuada de um número inteiro de 1 a 10, de acordo com a escolha da pessoa usuária. Como exemplo, para o número 2, a tabuada deve ser mostrada no seguinte formato:\n",
        "```\n",
        "Tabuada do 2:\n",
        "2 x 1 = 2\n",
        "2 x 2 = 4\n",
        "[...]\n",
        "2 x 10 = 20\n",
        "```"
      ],
      "metadata": {
        "id": "ODxaTUYmJRdS"
      }
    },
    {
      "cell_type": "code",
      "source": [
        "num = int(input('Informe um número inteiro de 1 a 10: '))\n",
        "\n",
        "print(f'Tabuada do número {num}:')\n",
        "\n",
        "for i in range(1, 11):\n",
        "    result = num * i\n",
        "    print(f'{num} x {i} = {result}')\n"
      ],
      "metadata": {
        "id": "lkTlbxPIJRdS",
        "colab": {
          "base_uri": "https://localhost:8080/"
        },
        "outputId": "88f54a3a-fbd0-431d-aee6-17868e3001cd"
      },
      "execution_count": 48,
      "outputs": [
        {
          "output_type": "stream",
          "name": "stdout",
          "text": [
            "Informe um número inteiro de 1 a 10: 5\n",
            "Tabuada do número 5:\n",
            "5 x 1 = 5\n",
            "5 x 2 = 10\n",
            "5 x 3 = 15\n",
            "5 x 4 = 20\n",
            "5 x 5 = 25\n",
            "5 x 6 = 30\n",
            "5 x 7 = 35\n",
            "5 x 8 = 40\n",
            "5 x 9 = 45\n",
            "5 x 10 = 50\n"
          ]
        }
      ]
    },
    {
      "cell_type": "markdown",
      "source": [
        "#### Questão 7\n",
        "Os números primos possuem várias aplicações dentro da Ciência de Dados, por exemplo, na criptografia e segurança. Um número primo é aquele que é divisível apenas por um e por ele mesmo. Faça um programa que peça um número inteiro e determine se ele é ou não um número primo."
      ],
      "metadata": {
        "id": "LeIbnt8VJRdS"
      }
    },
    {
      "cell_type": "code",
      "source": [
        "# Solicitamos o número\n",
        "num = int(input(\"Digite o número: \"))\n",
        "\n",
        "# Assumimos que o número é primo até que se prove o contrário\n",
        "eh_primo = True\n",
        "\n",
        "# Números abaixo de 2 não são primos\n",
        "if num <= 1 :\n",
        "  eh_primo = False\n",
        "else:\n",
        "    for i in range(2, num):\n",
        "        # Se o número for divisível por qualquer número dentro deste intervalo,\n",
        "        # ele não é primo, portanto, mudamos a variável 'eh_primo' para False e saímos do loop.\n",
        "        if num % i == 0:\n",
        "            eh_primo = False\n",
        "            break\n",
        "\n",
        "# Verifica se 'eh_primo' ainda é True, o que significa que o número passou pelo loop\n",
        "# sem ser divisível por nenhum número além de 1 e ele mesmo.\n",
        "if eh_primo:\n",
        "    # Se for o caso, o número é primo.\n",
        "    print(f'O número {num} é primo')\n",
        "else:\n",
        "    # Caso contrário, o número não é primo.\n",
        "    print(f'O número {num} não é primo')\n"
      ],
      "metadata": {
        "id": "2rcNU7twJRdS",
        "colab": {
          "base_uri": "https://localhost:8080/"
        },
        "outputId": "7cf2b56c-54fd-44cc-94fa-9fe3a2c74c4c"
      },
      "execution_count": 50,
      "outputs": [
        {
          "output_type": "stream",
          "name": "stdout",
          "text": [
            "Digite o número: 11\n",
            "O número 11 é primo\n"
          ]
        }
      ]
    },
    {
      "cell_type": "markdown",
      "source": [
        "#### Questão 8\n",
        "Vamos entender a distribuição de idades de pensionistas de uma empresa de previdência. Escreva um programa que leia as idades de uma quantidade não informada de clientes e mostre a distribuição em intervalos de [0-25], [26-50], [51-75] e [76-100]. Encerre a entrada de dados com um número negativo."
      ],
      "metadata": {
        "id": "QTwb6QaCJRdT"
      }
    },
    {
      "cell_type": "code",
      "source": [
        "\n",
        "idade = int(input('Informe a idade ou número negativo para finalizar:'))\n",
        "\n",
        "contador_0_25 = 0\n",
        "contador_26_50 = 0\n",
        "contador_51_75 = 0\n",
        "contador_76_100 = 0\n",
        "\n",
        "while idade >= 0:\n",
        "    if idade >= 0 and idade <= 25:\n",
        "        contador_0_25 += 1\n",
        "    elif idade >= 26 and idade <= 50:\n",
        "        contador_26_50 += 1\n",
        "    elif idade >= 51 and idade <= 75:\n",
        "        contador_51_75 += 1\n",
        "    elif idade >= 76 and idade <= 100:\n",
        "        contador_76_100 += 1\n",
        "\n",
        "\n",
        "    idade = int(input('Informe a idade ou número negativo para finalizar:'))\n",
        "\n",
        "print('Distribuição de idades:')\n",
        "print('0-25:', contador_0_25)\n",
        "print('26-50:', contador_26_50)\n",
        "print('51-75:', contador_51_75)\n",
        "print('76-100:', contador_76_100)"
      ],
      "metadata": {
        "id": "4IAhaDmYJRdT",
        "colab": {
          "base_uri": "https://localhost:8080/"
        },
        "outputId": "c26aedb9-229b-45ff-ed0c-d4b15c0a3ff0"
      },
      "execution_count": 51,
      "outputs": [
        {
          "output_type": "stream",
          "name": "stdout",
          "text": [
            "Informe a idade ou número negativo para finalizar:88\n",
            "Informe a idade ou número negativo para finalizar:98\n",
            "Informe a idade ou número negativo para finalizar:-1\n",
            "Distribuição de idades:\n",
            "0-25: 0\n",
            "26-50: 0\n",
            "51-75: 0\n",
            "76-100: 2\n"
          ]
        }
      ]
    },
    {
      "cell_type": "markdown",
      "source": [
        "#### Questão 9\n",
        "Em uma eleição para gerência em uma empresa com 20 funcionários, existem quatro candidatos. Escreva um programa que calcule o vencedor da eleição. A votação ocorreu da seguinte maneira:\n",
        "- Cada funcionário votou em um dos quatro candidatos (representados pelos números 1, 2, 3 e 4).\n",
        "- Também foram contabilizados os votos nulos (representado pelo número 5) e os votos em branco (representado pelo número 6).\n",
        "\n",
        "Ao final da votação, o programa deve exibir o total de votos para cada candidato, o número de votos nulos e o número de votos em branco. Além disso, deve calcular e exibir a porcentagem de votos nulos em relação ao total de votos e a porcentagem de votos em branco em relação ao total de votos."
      ],
      "metadata": {
        "id": "soJCQVwRJRdT"
      }
    },
    {
      "cell_type": "code",
      "source": [
        "\n",
        "votos_candidato1 = 0\n",
        "votos_candidato2 = 0\n",
        "votos_candidato3 = 0\n",
        "votos_candidato4 = 0\n",
        "\n",
        "votos_nulos = 0\n",
        "votos_branco = 0\n",
        "\n",
        "for i in range(0,20):\n",
        "    voto = int(input('Informe voto: '))\n",
        "    if voto == 1:\n",
        "        votos_candidato1 += 1\n",
        "    elif voto == 2:\n",
        "        votos_candidato2 += 1\n",
        "    elif voto == 3:\n",
        "        votos_candidato3 += 1\n",
        "    elif voto == 4:\n",
        "        votos_candidato4 += 1\n",
        "    elif voto == 5:\n",
        "        votos_nulos += 1\n",
        "    elif voto == 6:\n",
        "        votos_branco += 1\n",
        "    else:\n",
        "        print(\"Voto inválido.\")\n",
        "\n",
        "print(f'Votos candidato 1: {votos_candidato1}')\n",
        "print(f'Votos candidato 2: {votos_candidato2}')\n",
        "print(f'Votos candidato 3: {votos_candidato3}')\n",
        "print(f'Votos candidato 4: {votos_candidato4}')\n",
        "print(f'Votos nulos: {votos_nulos}')\n",
        "print(f'Votos em branco: {votos_branco}')\n",
        "print(f'Percentual de votos nulos: {(votos_nulos / 20 * 100)}')\n",
        "print(f'Percentual de votos em branco: {(votos_branco / 20 * 100)}')"
      ],
      "metadata": {
        "id": "041EFrgG-4gR",
        "colab": {
          "base_uri": "https://localhost:8080/"
        },
        "outputId": "500d5ada-ab59-4bf8-dc7d-4605d6faa645"
      },
      "execution_count": 53,
      "outputs": [
        {
          "output_type": "stream",
          "name": "stdout",
          "text": [
            "Informe voto: 1\n",
            "Informe voto: 2\n",
            "Informe voto: 3\n",
            "Informe voto: 4\n",
            "Informe voto: 3\n",
            "Informe voto: 2\n",
            "Informe voto: 1\n",
            "Informe voto: 2\n",
            "Informe voto: 3\n",
            "Informe voto: 4\n",
            "Informe voto: 3\n",
            "Informe voto: 3\n",
            "Informe voto: 4\n",
            "Informe voto: 3\n",
            "Informe voto: 4\n",
            "Informe voto: 2\n",
            "Informe voto: 2\n",
            "Informe voto: 1\n",
            "Informe voto: 2\n",
            "Informe voto: 2\n",
            "Votos candidato 1: 3\n",
            "Votos candidato 2: 7\n",
            "Votos candidato 3: 6\n",
            "Votos candidato 4: 4\n",
            "Votos nulos: 0\n",
            "Votos em branco: 0\n",
            "Percentual de votos nulos: 0.0\n",
            "Percentual de votos em branco: 0.0\n"
          ]
        }
      ]
    },
    {
      "cell_type": "markdown",
      "source": [
        "## Aula 5 - Estruturas de dados"
      ],
      "metadata": {
        "id": "eijHQiNU2IZ7"
      }
    },
    {
      "cell_type": "markdown",
      "source": [
        "### Aquecendo na programação"
      ],
      "metadata": {
        "id": "92F0bKtBMgd7"
      }
    },
    {
      "cell_type": "markdown",
      "source": [
        "#### Questão 1\n",
        "Faça um programa que tenha a seguinte lista contendo os valores de gastos de uma empresa de papel `[2172.54, 3701.35, 3518.09, 3456.61, 3249.38, 2840.82, 3891.45, 3075.26, 2317.64, 3219.08]`. Com esses valores, faça um programa que calcule a média de gastos. Dica, use as funções built-in [`sum()`](https://docs.python.org/3/library/functions.html#sum) e [`len()`](https://docs.python.org/3/library/functions.html#len)."
      ],
      "metadata": {
        "id": "IypX2ANuMgeC"
      }
    },
    {
      "cell_type": "code",
      "source": [],
      "metadata": {
        "id": "ge3LuFhLMgeD"
      },
      "execution_count": null,
      "outputs": []
    },
    {
      "cell_type": "markdown",
      "source": [
        "#### Questão 2\n",
        " Com os mesmos dados da questão anterior, defina quantas compras foram acima de 3000 reais e calcule a porcentagem quanto ao total de compras."
      ],
      "metadata": {
        "id": "xrOeLhQkMgeD"
      }
    },
    {
      "cell_type": "code",
      "source": [],
      "metadata": {
        "id": "Ygu5TMZyMgeD"
      },
      "execution_count": null,
      "outputs": []
    },
    {
      "cell_type": "markdown",
      "source": [
        "#### Questão 3\n",
        "Faça um código que colete em uma lista 5 números inteiros quaisquer e imprima a lista. Exemplo: `[1,4,7,2,4]`."
      ],
      "metadata": {
        "id": "JgCOrE_BMgeD"
      }
    },
    {
      "cell_type": "code",
      "source": [],
      "metadata": {
        "id": "vtM9O1hLMgeD"
      },
      "execution_count": null,
      "outputs": []
    },
    {
      "cell_type": "markdown",
      "source": [
        "#### Questão 4\n",
        "Colete novamente 5 inteiros e imprima a lista em ordem inversa à enviada."
      ],
      "metadata": {
        "id": "p3bTp88HMgeD"
      }
    },
    {
      "cell_type": "code",
      "source": [],
      "metadata": {
        "id": "-CGwMIyHMgeD"
      },
      "execution_count": null,
      "outputs": []
    },
    {
      "cell_type": "markdown",
      "source": [
        "#### Questão 5\n",
        "Faça um programa que, ao inserir um número qualquer, criará uma lista contendo todos os números primos entre 1 e o número digitado."
      ],
      "metadata": {
        "id": "eIXd_z1lMgeD"
      }
    },
    {
      "cell_type": "code",
      "source": [],
      "metadata": {
        "id": "rj_6GHstMgeE"
      },
      "execution_count": null,
      "outputs": []
    },
    {
      "cell_type": "markdown",
      "source": [
        "#### Questão 6\n",
        "Escreva um programa que peça uma data informando o dia, mês e ano e determine se ela é uma data válida para uma análise."
      ],
      "metadata": {
        "id": "zrbz3ENlMgeE"
      }
    },
    {
      "cell_type": "code",
      "source": [],
      "metadata": {
        "id": "0eYA8UjTMgeE"
      },
      "execution_count": null,
      "outputs": []
    },
    {
      "cell_type": "markdown",
      "source": [
        "### Momento dos projetos"
      ],
      "metadata": {
        "id": "ut_4VHdGMgeE"
      }
    },
    {
      "cell_type": "markdown",
      "source": [
        "#### Questão 7\n",
        "Para um estudo envolvendo o nível de multiplicação de bactérias em uma colônia, foi coletado o número de bactérias multiplicadas por dia, com base em um processo de duplicação diária e pode ser observado a seguir: `[1.2, 2.1, 3.3, 5.0, 7.8, 11.3, 16.6, 25.1, 37.8, 56.9]`. Tendo esses valores, faça um código que gere uma lista contendo o percentual de crescimento de bactérias por dia, comparando o número de bactérias em cada dia com o número de bactérias do dia anterior. Dica: para calcular o percentual de crescimento usamos a seguinte equação: `100 * (amostra_atual - amostra_passada) / (amostra_passada)`."
      ],
      "metadata": {
        "id": "G86Z0vD_MgeE"
      }
    },
    {
      "cell_type": "code",
      "source": [],
      "metadata": {
        "id": "PXNO_CFkMgeE"
      },
      "execution_count": null,
      "outputs": []
    },
    {
      "cell_type": "markdown",
      "source": [
        "#### Questão 8\n",
        "Para uma seleção de produtos alimentícios, precisamos separar o conjunto de IDs dados por números inteiros, sabendo que os produtos com ID par são doces e os com ID ímpar são amargos. Monte um código que colete 10 IDs. Depois, calcule e mostre a quantidade de produtos doces e amargos."
      ],
      "metadata": {
        "id": "p4nxogpnMgeE"
      }
    },
    {
      "cell_type": "code",
      "source": [],
      "metadata": {
        "id": "WqjO2SZkMgeE"
      },
      "execution_count": null,
      "outputs": []
    },
    {
      "cell_type": "markdown",
      "source": [
        "#### Questão 9\n",
        "Desenvolva um programa que informa a nota de um aluno de acordo com suas respostas. Ele deve pedir a resposta de um aluno para cada questão e é preciso verificar se a resposta foi igual ao gabarito. Cada questão vale um ponto e existem alternativas:  A, B, C ou D.\n",
        "```\n",
        "Gabarito da Prova:\n",
        "01 - D\n",
        "02 - A\n",
        "03 - C\n",
        "04 - B\n",
        "05 - A\n",
        "06 - D\n",
        "07 - C\n",
        "08 - C\n",
        "09 - A\n",
        "10 - B\n",
        "```"
      ],
      "metadata": {
        "id": "t5OrLxV6MgeE"
      }
    },
    {
      "cell_type": "code",
      "source": [],
      "metadata": {
        "id": "ytIQDJrQMgeE"
      },
      "execution_count": null,
      "outputs": []
    },
    {
      "cell_type": "markdown",
      "source": [
        "#### Questão 10\n",
        "Um instituto de meteorologia deseja fazer um estudo de temperatura média de cada mês do ano. Para isso, você precisa fazer um código que colete e armazene essas temperaturas médias em uma lista. Depois, calcule a média anual das temperaturas e mostre todas as temperaturas acima da média anual, e em que mês elas ocorreram, mostrando os meses por extenso: Janeiro, Fevereiro, etc."
      ],
      "metadata": {
        "id": "aSBMzh-AMgeF"
      }
    },
    {
      "cell_type": "code",
      "source": [],
      "metadata": {
        "id": "ftj04s2uMgeF"
      },
      "execution_count": null,
      "outputs": []
    },
    {
      "cell_type": "markdown",
      "source": [
        "#### Questão 11\n",
        "Uma empresa de e-commerce está interessada em analisar as vendas dos seus produtos. Os dados das vendas foram armazenados em um dicionário:\n",
        "```\n",
        "{'Produto A': 300, 'Produto B': 80, 'Produto C': 60,\n",
        " 'Produto D': 200, 'Produto E': 250, 'Produto F': 30}\n",
        "```\n",
        "Escreva um código que calcule o total de vendas e o produto mais vendido."
      ],
      "metadata": {
        "id": "0X8S6s4jMgeF"
      }
    },
    {
      "cell_type": "code",
      "source": [],
      "metadata": {
        "id": "Xa3DJLtFMgeF"
      },
      "execution_count": null,
      "outputs": []
    },
    {
      "cell_type": "markdown",
      "source": [
        "#### Questão 12\n",
        "Uma pesquisa de mercado foi feita para decidir qual design de uma marca infantil mais agrada crianças. A pesquisa foi feita e o votos computados podem ser observados abaixo:\n",
        "```\n",
        "'''\n",
        "Tabela de votos da marca\n",
        "Design 1 - 1334 votos\n",
        "Design 2 - 982 votos\n",
        "Design 3 - 1751 votos\n",
        "Design 4 - 210 votos\n",
        "Design 5 - 1811 votos\n",
        "'''\n",
        "```\n",
        "Adapte os dados fornecidos a você para uma estrutura de dicionário e a partir dele, informe o design vencedor e a porcentagem de votos recebidos.\n"
      ],
      "metadata": {
        "id": "nrEwf_1ZMgeF"
      }
    },
    {
      "cell_type": "code",
      "source": [],
      "metadata": {
        "id": "MRPcGR-_MgeF"
      },
      "execution_count": null,
      "outputs": []
    },
    {
      "cell_type": "markdown",
      "source": [
        "#### Questão 13\n",
        "Os funcionários de um setor da empresa que você trabalha vão receber um abono correspondente a 10% do seu salário devido ao ótimo desempenho do time. O setor financeiro solicitou sua ajuda para a verificação das consequências financeiras que esse abono irá gerar nos recursos. Assim, foi encaminhada para você uma lista com os salários que receberão o abono: `[1172, 1644, 2617, 5130, 5532, 6341, 6650, 7238, 7685, 7782, 7903]`. O abono de cada funcionário não pode ser inferior a 200. Em código, transforme cada um dos salários em chaves de um dicionário e o abono de cada salário no elemento. Depois, informe o total de gastos com o abono, quantos funcionários receberam o abono mínimo e qual o maior valor de abono fornecido.\n"
      ],
      "metadata": {
        "id": "HRTFFzKIMgeF"
      }
    },
    {
      "cell_type": "code",
      "source": [],
      "metadata": {
        "id": "QsDSCua42bLB"
      },
      "execution_count": null,
      "outputs": []
    },
    {
      "cell_type": "markdown",
      "source": [
        "#### Questão 14\n",
        "Uma equipe de cientistas de dados está estudando a diversidade biológica em uma floresta. A equipe fez a coleta de informações sobre o número de espécies de plantas e animais em cada área da floresta e armazenaram essas informações em um dicionário. Nele, a chave descreve a área dos dados e os valores nas listas correspondem às espécies de plantas e animais nas áreas, respectivamente.\n",
        "```\n",
        "{'Área Norte': [2819, 7236],\n",
        " 'Área Leste': [1440, 9492],\n",
        " 'Área Sul': [5969, 7496],\n",
        " 'Área Oeste': [14446, 49688],\n",
        " 'Área Centro': [22558, 45148]}\n",
        "```\n",
        "Escreva um código para calcular a média de espécies por área e identificar a área com a maior diversidade biológica. Dica: use as funções built-in [`sum()`](https://docs.python.org/3/library/functions.html#sum) e [`len()`](https://docs.python.org/3/library/functions.html#len).\n"
      ],
      "metadata": {
        "id": "6dEXZEwjMlWy"
      }
    },
    {
      "cell_type": "code",
      "source": [],
      "metadata": {
        "id": "eQnOUDfYMlWy"
      },
      "execution_count": null,
      "outputs": []
    },
    {
      "cell_type": "markdown",
      "source": [
        "#### Questão 15\n",
        "O setor de RH da sua empresa te pediu uma ajuda para analisar as idades dos funcionários de 4 setores da empresa. Para isso, ele te forneceu os seguintes dados:\n",
        "```\n",
        "{'Setor A': [22, 26, 30, 30, 35, 38, 40, 56, 57, 65],\n",
        " 'Setor B': [22, 24, 26, 33, 41, 49, 50, 54, 60, 64],\n",
        " 'Setor C': [23, 26, 26, 29, 34, 35, 36, 41, 52, 56],\n",
        " 'Setor D': [19, 20, 25, 27, 34, 39, 42, 44, 50, 65]}\n",
        "```\n",
        "Sabendo que cada setor tem 10 funcionários, construa um código que calcule a média de idade de cada setor, a idade média geral entre todos os setores e quantas pessoas estão acima da idade média geral.\n"
      ],
      "metadata": {
        "id": "r0RW2Sy_MlWy"
      }
    },
    {
      "cell_type": "code",
      "source": [],
      "metadata": {
        "id": "wCiwyKP3MmTz"
      },
      "execution_count": null,
      "outputs": []
    }
  ]
}